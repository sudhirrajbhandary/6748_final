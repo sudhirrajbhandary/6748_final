{
 "cells": [
  {
   "cell_type": "code",
   "execution_count": 1,
   "id": "98f48462-70a0-4959-a7ef-30054344b021",
   "metadata": {},
   "outputs": [],
   "source": [
    "from sklearn.linear_model import LogisticRegression\n",
    "from sklearn.feature_extraction.text import TfidfVectorizer\n",
    "from sklearn.model_selection import train_test_split,cross_val_predict,cross_val_score\n",
    "from sklearn.preprocessing import StandardScaler\n",
    "from scipy.sparse import hstack\n",
    "import pandas as pd\n",
    "import numpy as np\n",
    "from mlxtend.feature_selection import SequentialFeatureSelector\n",
    "from sklearn.metrics import classification_report#, confusionMatrix\n",
    "from sklearn.feature_selection import SelectKBest, chi2\n",
    "import statsmodels.api as sm\n",
    "from sklearn.model_selection import GridSearchCV\n",
    "import warnings\n",
    "from xgboost import XGBClassifier\n",
    "from sklearn.preprocessing import LabelEncoder\n",
    "from sklearn.metrics import confusion_matrix"
   ]
  },
  {
   "cell_type": "code",
   "execution_count": 2,
   "id": "f05f952a-ccb2-461e-9d43-6135b7454077",
   "metadata": {},
   "outputs": [],
   "source": [
    "warnings.filterwarnings('ignore')"
   ]
  },
  {
   "cell_type": "code",
   "execution_count": 3,
   "id": "76b3dc4d-af9e-469e-af6c-e0e43768b150",
   "metadata": {
    "scrolled": true
   },
   "outputs": [
    {
     "data": {
      "text/html": [
       "<div>\n",
       "<style scoped>\n",
       "    .dataframe tbody tr th:only-of-type {\n",
       "        vertical-align: middle;\n",
       "    }\n",
       "\n",
       "    .dataframe tbody tr th {\n",
       "        vertical-align: top;\n",
       "    }\n",
       "\n",
       "    .dataframe thead th {\n",
       "        text-align: right;\n",
       "    }\n",
       "</style>\n",
       "<table border=\"1\" class=\"dataframe\">\n",
       "  <thead>\n",
       "    <tr style=\"text-align: right;\">\n",
       "      <th></th>\n",
       "      <th>id</th>\n",
       "      <th>title</th>\n",
       "      <th>vote_average</th>\n",
       "      <th>vote_count</th>\n",
       "      <th>status</th>\n",
       "      <th>release_date</th>\n",
       "      <th>revenue</th>\n",
       "      <th>runtime</th>\n",
       "      <th>adult</th>\n",
       "      <th>budget</th>\n",
       "      <th>...</th>\n",
       "      <th>dir_flop</th>\n",
       "      <th>actor_total</th>\n",
       "      <th>actor_blockbuster</th>\n",
       "      <th>actor_success</th>\n",
       "      <th>actor_flop</th>\n",
       "      <th>dir_act_total</th>\n",
       "      <th>dir_act_blockbuster</th>\n",
       "      <th>dir_act_success</th>\n",
       "      <th>dir_act_flop</th>\n",
       "      <th>dataset</th>\n",
       "    </tr>\n",
       "  </thead>\n",
       "  <tbody>\n",
       "    <tr>\n",
       "      <th>0</th>\n",
       "      <td>42816</td>\n",
       "      <td>The Champ</td>\n",
       "      <td>7.023</td>\n",
       "      <td>43</td>\n",
       "      <td>Released</td>\n",
       "      <td>11/21/1931</td>\n",
       "      <td>1600000</td>\n",
       "      <td>86</td>\n",
       "      <td>False</td>\n",
       "      <td>356000</td>\n",
       "      <td>...</td>\n",
       "      <td>NaN</td>\n",
       "      <td>1.0</td>\n",
       "      <td>NaN</td>\n",
       "      <td>1.0</td>\n",
       "      <td>NaN</td>\n",
       "      <td>NaN</td>\n",
       "      <td>NaN</td>\n",
       "      <td>NaN</td>\n",
       "      <td>NaN</td>\n",
       "      <td>test</td>\n",
       "    </tr>\n",
       "    <tr>\n",
       "      <th>1</th>\n",
       "      <td>15467</td>\n",
       "      <td>Kismat Konnection</td>\n",
       "      <td>4.972</td>\n",
       "      <td>53</td>\n",
       "      <td>Released</td>\n",
       "      <td>7/18/2008</td>\n",
       "      <td>11000000</td>\n",
       "      <td>153</td>\n",
       "      <td>False</td>\n",
       "      <td>4180000</td>\n",
       "      <td>...</td>\n",
       "      <td>NaN</td>\n",
       "      <td>8.0</td>\n",
       "      <td>1.0</td>\n",
       "      <td>6.0</td>\n",
       "      <td>NaN</td>\n",
       "      <td>NaN</td>\n",
       "      <td>NaN</td>\n",
       "      <td>NaN</td>\n",
       "      <td>NaN</td>\n",
       "      <td>test</td>\n",
       "    </tr>\n",
       "    <tr>\n",
       "      <th>2</th>\n",
       "      <td>623010</td>\n",
       "      <td>Timecrowave</td>\n",
       "      <td>0.000</td>\n",
       "      <td>0</td>\n",
       "      <td>Released</td>\n",
       "      <td>5/9/2018</td>\n",
       "      <td>1000</td>\n",
       "      <td>13</td>\n",
       "      <td>False</td>\n",
       "      <td>500</td>\n",
       "      <td>...</td>\n",
       "      <td>NaN</td>\n",
       "      <td>2.0</td>\n",
       "      <td>NaN</td>\n",
       "      <td>2.0</td>\n",
       "      <td>NaN</td>\n",
       "      <td>2.0</td>\n",
       "      <td>NaN</td>\n",
       "      <td>2.0</td>\n",
       "      <td>NaN</td>\n",
       "      <td>test</td>\n",
       "    </tr>\n",
       "    <tr>\n",
       "      <th>3</th>\n",
       "      <td>258832</td>\n",
       "      <td>Convention City</td>\n",
       "      <td>1.000</td>\n",
       "      <td>1</td>\n",
       "      <td>Released</td>\n",
       "      <td>12/14/1933</td>\n",
       "      <td>522000</td>\n",
       "      <td>69</td>\n",
       "      <td>False</td>\n",
       "      <td>239000</td>\n",
       "      <td>...</td>\n",
       "      <td>1.0</td>\n",
       "      <td>1.0</td>\n",
       "      <td>NaN</td>\n",
       "      <td>NaN</td>\n",
       "      <td>NaN</td>\n",
       "      <td>NaN</td>\n",
       "      <td>NaN</td>\n",
       "      <td>NaN</td>\n",
       "      <td>NaN</td>\n",
       "      <td>test</td>\n",
       "    </tr>\n",
       "    <tr>\n",
       "      <th>4</th>\n",
       "      <td>45272</td>\n",
       "      <td>Country Strong</td>\n",
       "      <td>6.195</td>\n",
       "      <td>230</td>\n",
       "      <td>Released</td>\n",
       "      <td>12/22/2010</td>\n",
       "      <td>20601987</td>\n",
       "      <td>117</td>\n",
       "      <td>False</td>\n",
       "      <td>15000000</td>\n",
       "      <td>...</td>\n",
       "      <td>1.0</td>\n",
       "      <td>1.0</td>\n",
       "      <td>NaN</td>\n",
       "      <td>NaN</td>\n",
       "      <td>NaN</td>\n",
       "      <td>NaN</td>\n",
       "      <td>NaN</td>\n",
       "      <td>NaN</td>\n",
       "      <td>NaN</td>\n",
       "      <td>test</td>\n",
       "    </tr>\n",
       "  </tbody>\n",
       "</table>\n",
       "<p>5 rows × 97 columns</p>\n",
       "</div>"
      ],
      "text/plain": [
       "       id              title  vote_average  vote_count    status release_date  \\\n",
       "0   42816          The Champ         7.023          43  Released   11/21/1931   \n",
       "1   15467  Kismat Konnection         4.972          53  Released    7/18/2008   \n",
       "2  623010        Timecrowave         0.000           0  Released     5/9/2018   \n",
       "3  258832    Convention City         1.000           1  Released   12/14/1933   \n",
       "4   45272     Country Strong         6.195         230  Released   12/22/2010   \n",
       "\n",
       "    revenue  runtime  adult    budget  ... dir_flop actor_total  \\\n",
       "0   1600000       86  False    356000  ...      NaN         1.0   \n",
       "1  11000000      153  False   4180000  ...      NaN         8.0   \n",
       "2      1000       13  False       500  ...      NaN         2.0   \n",
       "3    522000       69  False    239000  ...      1.0         1.0   \n",
       "4  20601987      117  False  15000000  ...      1.0         1.0   \n",
       "\n",
       "  actor_blockbuster actor_success  actor_flop dir_act_total  \\\n",
       "0               NaN           1.0         NaN           NaN   \n",
       "1               1.0           6.0         NaN           NaN   \n",
       "2               NaN           2.0         NaN           2.0   \n",
       "3               NaN           NaN         NaN           NaN   \n",
       "4               NaN           NaN         NaN           NaN   \n",
       "\n",
       "  dir_act_blockbuster dir_act_success dir_act_flop dataset  \n",
       "0                 NaN             NaN          NaN    test  \n",
       "1                 NaN             NaN          NaN    test  \n",
       "2                 NaN             2.0          NaN    test  \n",
       "3                 NaN             NaN          NaN    test  \n",
       "4                 NaN             NaN          NaN    test  \n",
       "\n",
       "[5 rows x 97 columns]"
      ]
     },
     "execution_count": 3,
     "metadata": {},
     "output_type": "execute_result"
    }
   ],
   "source": [
    "data = pd.read_csv(\"combined_df.csv\")\n",
    "data.head()"
   ]
  },
  {
   "cell_type": "code",
   "execution_count": 4,
   "id": "6eea460d-e93f-4229-ac38-13c571399b0e",
   "metadata": {},
   "outputs": [
    {
     "data": {
      "text/plain": [
       "(11686, 97)"
      ]
     },
     "execution_count": 4,
     "metadata": {},
     "output_type": "execute_result"
    }
   ],
   "source": [
    "data.shape"
   ]
  },
  {
   "cell_type": "code",
   "execution_count": 5,
   "id": "6d668fc8-8148-480f-93e1-4976e44d179a",
   "metadata": {},
   "outputs": [],
   "source": [
    "# max_popularity = data['popularity'].max()\n",
    "# max_popularity"
   ]
  },
  {
   "cell_type": "code",
   "execution_count": 6,
   "id": "ece4a105-25ab-4ec1-b309-040f6b31b465",
   "metadata": {},
   "outputs": [],
   "source": [
    "#data['popularity_pct'] = (data['popularity']*100)/max_popularity"
   ]
  },
  {
   "cell_type": "code",
   "execution_count": 7,
   "id": "cb5c6168-3879-4ec1-bb3a-9a6e7e1c84fb",
   "metadata": {},
   "outputs": [],
   "source": [
    "# columns_to_display = ['popularity', 'popularity_pct']  # Specify the columns you want to display\n",
    "# data[columns_to_display].head()\n",
    "# data['popularity_pct'].min()"
   ]
  },
  {
   "cell_type": "code",
   "execution_count": 8,
   "id": "4bd550f2-87d2-4a33-86d0-f25eb225ba4a",
   "metadata": {},
   "outputs": [],
   "source": [
    "#data['avg_rating'] = (data['vote_average']+ (data['popularity_pct']/10))/2\n",
    "#data.head()\n",
    "data[\"actor1Name\"]=data[\"actor1Name\"].astype(\"category\")\n",
    "data[\"dir1Name\"]=data[\"dir1Name\"].astype(\"category\")\n"
   ]
  },
  {
   "cell_type": "code",
   "execution_count": 9,
   "id": "88c44bb7-d491-484d-ae2c-c39ae236bce0",
   "metadata": {},
   "outputs": [],
   "source": [
    "# # List of text columns to keep\n",
    "# columns_to_keep = ['actor1Name','dir1Name','success_level','dataset']\n",
    "\n",
    "# # Identify all columns with text (object) data type\n",
    "# text_columns = data.select_dtypes(include=['object']).columns\n",
    "\n",
    "# # Drop text columns except the ones in the keep list\n",
    "# columns_to_drop = [col for col in text_columns if col not in columns_to_keep]\n",
    "# train_filtered = data.drop(columns=columns_to_drop)\n",
    "\n",
    "# categorical_cols = data.select_dtypes(include=['object']).columns\n",
    "\n",
    "# label_encoder = LabelEncoder()\n",
    "\n",
    "# # Apply LabelEncoder to each categorical column\n",
    "# for col in categorical_cols:\n",
    "#     data[col] = label_encoder.fit_transform(data[col])\n"
   ]
  },
  {
   "cell_type": "code",
   "execution_count": 10,
   "id": "56ee4638-8e11-4d65-afc8-306eaf2fed52",
   "metadata": {},
   "outputs": [],
   "source": [
    "#split the data into into train and test\n",
    "train_data = data[data['dataset'] == 'train']\n",
    "validate_data = data[data['dataset'] == 'validation']\n",
    "test_data = data[data['dataset'] == 'test']"
   ]
  },
  {
   "cell_type": "code",
   "execution_count": 11,
   "id": "74aa2d97-d23c-4626-b0c9-4889542431c8",
   "metadata": {},
   "outputs": [
    {
     "data": {
      "text/plain": [
       "success_level\n",
       "Success        3177\n",
       "Flop           3074\n",
       "Blockbuster    1929\n",
       "Name: count, dtype: int64"
      ]
     },
     "execution_count": 11,
     "metadata": {},
     "output_type": "execute_result"
    }
   ],
   "source": [
    "#check for the data distribution for train distribution\n",
    "train_data['success_level'].value_counts()"
   ]
  },
  {
   "cell_type": "code",
   "execution_count": 12,
   "id": "cb179042-8070-4017-be3d-c23535715eb6",
   "metadata": {},
   "outputs": [],
   "source": [
    "#train_data.shape"
   ]
  },
  {
   "cell_type": "code",
   "execution_count": 13,
   "id": "44965035-e1f7-4ceb-a974-3c6cc00a20af",
   "metadata": {},
   "outputs": [],
   "source": [
    "#validate_data.shape"
   ]
  },
  {
   "cell_type": "code",
   "execution_count": 27,
   "id": "2adfcbca-3ef4-4d8e-b688-ccb96e25ab45",
   "metadata": {},
   "outputs": [],
   "source": [
    "#test_data.shape"
   ]
  },
  {
   "cell_type": "code",
   "execution_count": 28,
   "id": "571408e0-dcf4-4ed8-9d25-8ace436d31c5",
   "metadata": {},
   "outputs": [],
   "source": [
    "#data[data['dataset'].isnull()]"
   ]
  },
  {
   "cell_type": "code",
   "execution_count": 31,
   "id": "e4a4efd8-cece-48cb-a06c-f1c49ce0878f",
   "metadata": {},
   "outputs": [],
   "source": [
    "#train_data.dtypes"
   ]
  },
  {
   "cell_type": "code",
   "execution_count": 33,
   "id": "64c31a65-0def-41b5-901d-70d01946e248",
   "metadata": {},
   "outputs": [],
   "source": [
    "#Drop all text fields except for actorname and dirname and our Y \n",
    "\n",
    "# List of text columns to keep\n",
    "columns_to_keep = ['actor1Name','dir1Name','success_level']\n",
    "\n",
    "# Identify all columns with text (object) data type\n",
    "text_columns = train_data.select_dtypes(include=['object']).columns\n",
    "\n",
    "# Drop text columns except the ones in the keep list\n",
    "columns_to_drop = [col for col in text_columns if col not in columns_to_keep]\n",
    "train_filtered = train_data.drop(columns=columns_to_drop)\n"
   ]
  },
  {
   "cell_type": "code",
   "execution_count": 35,
   "id": "7063b44f-bcf4-49db-b76e-167a2a55735a",
   "metadata": {},
   "outputs": [],
   "source": [
    "# train_data.shape\n",
    "# train_filtered.shape"
   ]
  },
  {
   "cell_type": "code",
   "execution_count": 37,
   "id": "25fe6020-6bb4-4d39-b330-361ca333f531",
   "metadata": {},
   "outputs": [],
   "source": [
    "#Seperate the X and Y and convert Y to numeric and remove unwanted numeric fields in X\n",
    "X_noy =  train_filtered.drop('success_level', axis=1)\n",
    "#X_without_text_columns = X_noy.select_dtypes(exclude=['object'])\n",
    "Y = train_data[['success_level']]\n",
    "#X_without_text_columns.head()\n",
    "X = X_noy.drop(['id','revenue','popularity','budget_millions','revenue_millions','ordering_x','ordering_y','roi','vote_average',\t'vote_count','popularity','revenue','profit'], axis=1)\n",
    "#X_train = X.fillna(X.mean())\n",
    "#[X.select_dtypes(include=['number']).columns] = X.select_dtypes(include=['number']).fillna(X.mean())\n",
    "# Select numeric columns only\n",
    "#numeric_cols = X.select_dtypes(include=['number']).columns\n",
    "\n",
    "# Fill missing values in numeric columns with the mean of each column\n",
    "#X[numeric_cols] = X[numeric_cols].fillna(X[numeric_cols].mean())\n",
    "X.head()\n",
    "label_encoder = LabelEncoder()\n",
    "Y_numeric = label_encoder.fit_transform(Y)"
   ]
  },
  {
   "cell_type": "code",
   "execution_count": 39,
   "id": "ebe1ef14-3fc4-46a8-afbf-92aff129000d",
   "metadata": {},
   "outputs": [],
   "source": [
    "#X.shape\n",
    "#Y_numeric.shape"
   ]
  },
  {
   "cell_type": "code",
   "execution_count": 41,
   "id": "cd2b8015-c80c-46ed-a233-af1312c37dc4",
   "metadata": {},
   "outputs": [],
   "source": [
    "#Convert actroName and Dirname to categorical for the model to be able to use it as XGBoost can handle text only as categories\n",
    "X[\"actor1Name\"]=X[\"actor1Name\"].astype(\"category\")\n",
    "X[\"dir1Name\"]=X[\"dir1Name\"].astype(\"category\")"
   ]
  },
  {
   "cell_type": "code",
   "execution_count": 43,
   "id": "4dc34639-3db7-49d3-977c-0f8e7e9e62bc",
   "metadata": {},
   "outputs": [],
   "source": [
    "# def stepwise_selection(X_train, y_train, threshold_in=0.05, threshold_out=0.05):\n",
    "#     \"\"\"\n",
    "#     Perform stepwise regression: Both forward and backward selection.\n",
    "    \n",
    "#     X_train : Training dataset with the intercept\n",
    "#     y_train : Target variable\n",
    "#     threshold_in : Entry p-value threshold for a feature to enter the model\n",
    "#     threshold_out : Exit p-value threshold for a feature to be removed\n",
    "#     \"\"\"\n",
    "#     initial_features = X_train.columns.tolist()\n",
    "#     included = list(initial_features)\n",
    "#     while True:\n",
    "#         changed = False\n",
    "#         # Forward step: Add features that improve the model\n",
    "#         excluded = list(set(initial_features) - set(included))\n",
    "#         new_pval = pd.Series(index=excluded)\n",
    "#         for new_col in excluded:\n",
    "#             model = sm.Logit(y_train, X_train[included + [new_col]]).fit(disp=False)\n",
    "#             new_pval[new_col] = model.pvalues[new_col]\n",
    "#         min_pval = new_pval.min()\n",
    "#         if min_pval < threshold_in:\n",
    "#             best_feature = new_pval.idxmin()\n",
    "#             included.append(best_feature)\n",
    "#             changed = True\n",
    "\n",
    "#         # Backward step: Remove features that have a high p-value\n",
    "#         model = sm.Logit(y_train, X_train[included]).fit(disp=False)\n",
    "#         pvalues = model.pvalues[1:]  # exclude intercept\n",
    "#         max_pval = pvalues.max()\n",
    "#         if max_pval > threshold_out:\n",
    "#             worst_feature = pvalues.idxmax()\n",
    "#             included.remove(worst_feature)\n",
    "#             changed = True\n",
    "        \n",
    "#         if not changed:\n",
    "#             break\n",
    "#     return included"
   ]
  },
  {
   "cell_type": "code",
   "execution_count": 45,
   "id": "5e9f6640-bf92-457d-992e-d6200b444ac5",
   "metadata": {},
   "outputs": [],
   "source": [
    "# from sklearn.preprocessing import OrdinalEncoder\n",
    "# #import numpy as np\n",
    "# categorical_cols = X.select_dtypes(include=['object']).columns\n",
    "\n",
    "# # Apply Ordinal Encoding\n",
    "# encoder = OrdinalEncoder()\n",
    "# X[categorical_cols] = encoder.fit_transform(X[categorical_cols])\n"
   ]
  },
  {
   "cell_type": "code",
   "execution_count": 47,
   "id": "bec4c704-c636-49ad-9f71-45ef2f9d9969",
   "metadata": {},
   "outputs": [],
   "source": [
    "#X = X.drop(['vote_average', 'vote_count','popularity', 'profit','popularity_pct', 'avg_rating','roi'], axis=1)"
   ]
  },
  {
   "cell_type": "code",
   "execution_count": 49,
   "id": "f1db4546-dfd7-4c9d-9cd0-08bf0898cd73",
   "metadata": {},
   "outputs": [],
   "source": [
    "# label_encoder = LabelEncoder()\n",
    "# Y_numeric = label_encoder.fit_transform(Y)\n",
    "# xgb = XGBClassifier(objective='multi:softmax', num_class=3, eval_metric='mlogloss', use_label_encoder=False,enable_categorical=True, random_state=42)\n",
    "# sfs = SequentialFeatureSelector(xgb,\n",
    "#                                 k_features=10,\n",
    "#                                 forward=True,\n",
    "#                                 scoring='accuracy',\n",
    "#                                # max_iter=100,\n",
    "#                                 cv=5)\n",
    "# selected_features = sfs.fit(X, Y_numeric)\n",
    "# print(selected_features.k_feature_names_)"
   ]
  },
  {
   "cell_type": "code",
   "execution_count": 51,
   "id": "b3226cf0-f503-4775-938d-5436ea9d7efb",
   "metadata": {},
   "outputs": [],
   "source": [
    "#print(selected_features.k_feature_names_)"
   ]
  },
  {
   "cell_type": "code",
   "execution_count": 53,
   "id": "ce8224c1-8768-48d1-9f58-279d66868af7",
   "metadata": {},
   "outputs": [],
   "source": [
    "#X.columns"
   ]
  },
  {
   "cell_type": "code",
   "execution_count": 55,
   "id": "0eb26f89-2996-4bfe-a4a4-fddfd50c3e60",
   "metadata": {
    "scrolled": true
   },
   "outputs": [
    {
     "data": {
      "text/plain": [
       "array([0.00164486, 0.00126296, 0.00172729, 0.00226197, 0.0024517 ,\n",
       "       0.00136543, 0.00172085, 0.00167415, 0.00149738, 0.00152874,\n",
       "       0.00251947, 0.00252015, 0.00173636, 0.00206273, 0.00196841,\n",
       "       0.00187389, 0.00180889, 0.00217277, 0.00062519, 0.00119164,\n",
       "       0.00203502, 0.00137417, 0.00216192, 0.00249955, 0.00092146,\n",
       "       0.00065175, 0.00231394, 0.00166243, 0.        , 0.00117866,\n",
       "       0.00127208, 0.00084274, 0.00156574, 0.00072738, 0.0019949 ,\n",
       "       0.001044  , 0.00134303, 0.00182825, 0.00126743, 0.00185379,\n",
       "       0.00174628, 0.0012206 , 0.0013647 , 0.00187329, 0.00224176,\n",
       "       0.00163204, 0.00391104, 0.00368388, 0.01680788, 0.00087619,\n",
       "       0.00075382, 0.00115908, 0.01422863, 0.00185546, 0.00192351,\n",
       "       0.00115378, 0.06611896, 0.29595467, 0.23913267, 0.2782086 ],\n",
       "      dtype=float32)"
      ]
     },
     "execution_count": 55,
     "metadata": {},
     "output_type": "execute_result"
    }
   ],
   "source": [
    "#Train the model on XGB classifier we spcify num class as 3 as we have 3 categories for our Y and \n",
    "categorical_cols = X.select_dtypes(include=['object']).columns\n",
    "\n",
    "label_encoder = LabelEncoder()\n",
    "\n",
    "# Apply LabelEncoder to each categorical column\n",
    "for col in categorical_cols:\n",
    "    X[col] = label_encoder.fit_transform(X[col])\n",
    "\n",
    "xgb = XGBClassifier(objective='multi:softmax', num_class=3, eval_metric='mlogloss', use_label_encoder=False,enable_categorical=True, random_state=42)\n",
    "xgb.fit(X, Y_numeric)\n",
    "# Must use JSON/UBJSON for serialization, otherwise the information is lost.\n",
    "y_train_pred = xgb.predict(X)\n",
    "xgb.save_model(\"XGBoost-model.json\")\n",
    "xgb.feature_importances_"
   ]
  },
  {
   "cell_type": "code",
   "execution_count": 56,
   "id": "69261af2-9c39-4f48-802e-6452e8b0f616",
   "metadata": {},
   "outputs": [
    {
     "name": "stdout",
     "output_type": "stream",
     "text": [
      "Cross-validation scores: [0.90953545 0.91136919 0.91381418 0.91198044 0.9205379 ]\n",
      "Mean CV score: 0.9134474327628362\n",
      "Standard deviation of CV scores: 0.0037995770826210655\n"
     ]
    }
   ],
   "source": [
    "#cross validation of the dataset \n",
    "cv_scores = cross_val_score(xgb, X, Y_numeric, cv=5, scoring='accuracy')\n",
    "\n",
    "# Print the cross-validation scores\n",
    "print(f'Cross-validation scores: {cv_scores}')\n",
    "\n",
    "# Print the mean and standard deviation of the cross-validation scores\n",
    "print(f'Mean CV score: {np.mean(cv_scores)}')\n",
    "print(f'Standard deviation of CV scores: {np.std(cv_scores)}')"
   ]
  },
  {
   "cell_type": "code",
   "execution_count": 59,
   "id": "85473d32-b132-4e18-84e6-1828712494c2",
   "metadata": {},
   "outputs": [
    {
     "name": "stdout",
     "output_type": "stream",
     "text": [
      "Training accuracy: 99.36%\n"
     ]
    }
   ],
   "source": [
    "#accuracy on train set \n",
    "from sklearn.metrics import accuracy_score\n",
    "train_accuracy = accuracy_score(y_train_pred, Y_numeric)\n",
    "\n",
    "print(f\"Training accuracy: {train_accuracy * 100:.2f}%\")"
   ]
  },
  {
   "cell_type": "code",
   "execution_count": 61,
   "id": "6087a449-53ee-4f89-ab77-53fdf71e6066",
   "metadata": {},
   "outputs": [],
   "source": [
    "#for validation set remove the text fields as in train data except actor director names \n",
    "\n",
    "# List of text columns to keep\n",
    "columns_to_keep = ['actor1Name','dir1Name','success_level']\n",
    "\n",
    "# Identify all columns with text (object) data type\n",
    "text_columns = validate_data.select_dtypes(include=['object']).columns\n",
    "\n",
    "# Drop text columns except the ones in the keep list\n",
    "columns_to_drop = [col for col in text_columns if col not in columns_to_keep]\n",
    "validate_filtered = validate_data.drop(columns=columns_to_drop)\n"
   ]
  },
  {
   "cell_type": "code",
   "execution_count": 65,
   "id": "68b52096",
   "metadata": {},
   "outputs": [],
   "source": [
    "#validation set perform the data processing as done on training set \n",
    "X_val_noy =  validate_filtered.drop('success_level', axis=1)\n",
    "#X_without_text_columns = X_noy.select_dtypes(exclude=['object'])\n",
    "Y_val = validate_data[['success_level']]\n",
    "#X_without_text_columns.head()\n",
    "X_val = X_val_noy.drop(['id','revenue','budget_millions','revenue_millions','ordering_x','ordering_y','roi','vote_average',\t'vote_count','popularity','revenue','profit'], axis=1)\n",
    "#X_train = X.fillna(X.mean())\n",
    "#[X.select_dtypes(include=['number']).columns] = X.select_dtypes(include=['number']).fillna(X.mean())\n",
    "# Select numeric columns only\n",
    "#numeric_cols = X_val.select_dtypes(include=['number']).columns\n",
    "\n",
    "# Fill missing values in numeric columns with the mean of each column\n",
    "#X_val[numeric_cols] = X_val[numeric_cols].fillna(X_val[numeric_cols].mean())\n",
    "X_val.head()\n",
    "X_val[\"actor1Name\"]=X_val[\"actor1Name\"].astype(\"category\")\n",
    "X_val[\"dir1Name\"]=X_val[\"dir1Name\"].astype(\"category\")"
   ]
  },
  {
   "cell_type": "code",
   "execution_count": 67,
   "id": "adc09d32-88c1-491f-a903-9114d49ea9d3",
   "metadata": {},
   "outputs": [],
   "source": [
    "\n",
    "categorical_cols = X_val.select_dtypes(include=['object']).columns\n",
    "\n",
    "label_encoder = LabelEncoder()\n",
    "\n",
    "# Apply LabelEncoder to each categorical column\n",
    "for col in categorical_cols:\n",
    "    X_val[col] = label_encoder.fit_transform(X_val[col])\n",
    "#label_encoder = LabelEncoder()\n",
    "Y_val_numeric = label_encoder.fit_transform(Y_val)\n",
    "#xgb = XGBClassifier(objective='multi:softmax', num_class=3, eval_metric='mlogloss', use_label_encoder=False,enable_categorical=True, random_state=42)\n",
    "#xgb.fit(X, Y_numeric)\n",
    "# Must use JSON/UBJSON for serialization, otherwise the information is lost.\n",
    "#y_train_pred = xgb.predict(X)\n",
    "#xgb.save_model(\"XGBoost-model.json\")\n",
    "#xgb.feature_importances_"
   ]
  },
  {
   "cell_type": "code",
   "execution_count": 275,
   "id": "8a431bda-d51a-449b-a559-1c8a5423ede3",
   "metadata": {},
   "outputs": [
    {
     "data": {
      "text/plain": [
       "(1752, 60)"
      ]
     },
     "execution_count": 275,
     "metadata": {},
     "output_type": "execute_result"
    }
   ],
   "source": [
    "#X_val.shape"
   ]
  },
  {
   "cell_type": "code",
   "execution_count": 74,
   "id": "d3941103-86c0-413c-8303-f6f1a3945adf",
   "metadata": {},
   "outputs": [
    {
     "name": "stdout",
     "output_type": "stream",
     "text": [
      "Fitting 3 folds for each of 10 candidates, totalling 30 fits\n",
      "Best parameters found:  {'subsample': 0.8, 'scale_pos_weight': 1, 'n_estimators': 100, 'min_child_weight': 3, 'max_depth': 3, 'learning_rate': 0.05, 'gamma': 0, 'colsample_bytree': 0.8}\n",
      "Best accuracy found:  0.5091324200913242\n"
     ]
    }
   ],
   "source": [
    "#we have used Grid Search CV for hyper tuning the paramters but because of the complexity and num of paramters at times grid search took really long\n",
    "# and to get around with this we have used RandomizedSearchCV at times \n",
    "from sklearn.model_selection import RandomizedSearchCV\n",
    "from sklearn.model_selection import GridSearchCV\n",
    "param_grid = {\n",
    "    'learning_rate': [0.01, 0.05, 0.1, 0.2],  # eta\n",
    "    'n_estimators': [50, 100, 200, 300],      # Number of boosting rounds\n",
    "    'max_depth': [3, 6, 9],                    # Maximum depth of each tree\n",
    "    'min_child_weight': [1, 3, 5],              # Minimum sum of instance weight in a child\n",
    "    'subsample': [0.6, 0.8, 1.0],              # Fraction of samples for fitting each tree\n",
    "    'colsample_bytree': [0.6, 0.8, 1.0],       # Fraction of features used for each tree\n",
    "    'gamma': [0, 0.1, 0.2],                   # Minimum loss reduction required to make further partitions\n",
    "    'scale_pos_weight': [1, 2, 5]              # Adjusts weights for imbalanced datasets\n",
    "}\n",
    "\n",
    "# Set up GridSearchCV\n",
    "#grid_search = GridSearchCV(estimator=xgb, param_grid=param_grid, cv=3, scoring='accuracy', n_jobs=-1, verbose=1)\n",
    "#Randomeized serch CV\n",
    "grid_search = RandomizedSearchCV(estimator=xgb, param_distributions=param_grid, cv=3, scoring='accuracy', n_jobs=-1, verbose=1)\n",
    "\n",
    "# Fit the model\n",
    "grid_search.fit(X_val, Y_val_numeric)\n",
    "\n",
    "# Get the best parameters\n",
    "print(\"Best parameters found: \", grid_search.best_params_)\n",
    "\n",
    "# Get the best score\n",
    "print(\"Best accuracy found: \", grid_search.best_score_)\n",
    "\n",
    "# Evaluate on the test set (optional)\n",
    "#best_model = grid_search.best_estimator_\n",
    "#y_pred = best_model.predict(X_test)"
   ]
  },
  {
   "cell_type": "code",
   "execution_count": 75,
   "id": "a1b8e991-6d8c-4010-ac64-e4d91c493e8f",
   "metadata": {},
   "outputs": [],
   "source": [
    "best_model = grid_search.best_estimator_\n",
    "#y_pred = best_model.predict(X_test)"
   ]
  },
  {
   "cell_type": "code",
   "execution_count": 76,
   "id": "ccdbaf4c-3a61-40bd-947c-48a8783ace49",
   "metadata": {},
   "outputs": [],
   "source": [
    "\n",
    "#for the test data work on formatting data and removing unwanted data \n",
    "# List of text columns to keep\n",
    "columns_to_keep = ['actor1Name','dir1Name','success_level']\n",
    "\n",
    "# Identify all columns with text (object) data type\n",
    "text_columns = test_data.select_dtypes(include=['object']).columns\n",
    "\n",
    "# Drop text columns except the ones in the keep list\n",
    "columns_to_drop = [col for col in text_columns if col not in columns_to_keep]\n",
    "test_filtered = test_data.drop(columns=columns_to_drop)"
   ]
  },
  {
   "cell_type": "code",
   "execution_count": 77,
   "id": "97eb2ec9-3337-46a0-9021-f91559e79b4a",
   "metadata": {},
   "outputs": [],
   "source": [
    "X_test_noy =  test_filtered.drop('success_level', axis=1)\n",
    "#X_without_text_columns = X_noy.select_dtypes(exclude=['object'])\n",
    "Y_test = test_data[['success_level']]\n",
    "Y_test_numeric = label_encoder.fit_transform(Y_test)\n",
    "#X_without_text_columns.head()\n",
    "X_test = X_test_noy.drop(['id','revenue','budget_millions','revenue_millions','ordering_x','ordering_y','roi','vote_average',\t'vote_count','popularity','revenue','profit'], axis=1)\n",
    "#X_train = X.fillna(X.mean())\n",
    "#[X.select_dtypes(include=['number']).columns] = X.select_dtypes(include=['number']).fillna(X.mean())\n",
    "# Select numeric columns only\n",
    "#numeric_cols = X_test.select_dtypes(include=['number']).columns\n",
    "\n",
    "# Fill missing values in numeric columns with the mean of each column\n",
    "#X_test[numeric_cols] = X_test[numeric_cols].fillna(X_test[numeric_cols].mean())\n",
    "X_test.head()\n",
    "X_test[\"actor1Name\"]=X_test[\"actor1Name\"].astype(\"category\")\n",
    "X_test[\"dir1Name\"]=X_test[\"dir1Name\"].astype(\"category\")"
   ]
  },
  {
   "cell_type": "code",
   "execution_count": 78,
   "id": "7df3cff7-a561-4a50-a692-d176517457bf",
   "metadata": {},
   "outputs": [],
   "source": [
    "#X_test.shape\n",
    "#Y_test_numeric.shape"
   ]
  },
  {
   "cell_type": "code",
   "execution_count": 79,
   "id": "7223d240-0501-4179-8a45-13fd845a9666",
   "metadata": {},
   "outputs": [],
   "source": [
    "categorical_cols = X_test.select_dtypes(include=['object']).columns\n",
    "\n",
    "label_encoder = LabelEncoder()\n",
    "\n",
    "# Apply LabelEncoder to each categorical column\n",
    "for col in categorical_cols:\n",
    "    X_test[col] = label_encoder.fit_transform(X_test[col])\n",
    "\n",
    "#xgb = XGBClassifier(objective='multi:softmax', num_class=3, eval_metric='mlogloss', use_label_encoder=False,enable_categorical=True, random_state=42)\n",
    "#xgb.fit(X, Y_numeric)\n",
    "# Must use JSON/UBJSON for serialization, otherwise the information is lost.\n",
    "#y_train_pred = xgb.predict(X)\n",
    "#xgb.save_model(\"XGBoost-model.json\")\n",
    "#xgb.feature_importances_"
   ]
  },
  {
   "cell_type": "code",
   "execution_count": 80,
   "id": "a77102c9-87db-4d38-a1a7-9e0eacc3a458",
   "metadata": {},
   "outputs": [
    {
     "name": "stdout",
     "output_type": "stream",
     "text": [
      "test accuracy: 53.57%\n"
     ]
    }
   ],
   "source": [
    "y_test_pred = best_model.predict(X_test)\n",
    "test_accuracy = accuracy_score(y_test_pred, Y_test_numeric)\n",
    "\n",
    "print(f\"test accuracy: {test_accuracy * 100:.2f}%\")"
   ]
  },
  {
   "cell_type": "code",
   "execution_count": 81,
   "id": "405da7c3-1872-4080-92cf-3d0946308936",
   "metadata": {},
   "outputs": [
    {
     "data": {
      "text/plain": [
       "array([[110,  25,  51],\n",
       "       [127, 427, 228],\n",
       "       [171, 212, 402]], dtype=int64)"
      ]
     },
     "execution_count": 81,
     "metadata": {},
     "output_type": "execute_result"
    }
   ],
   "source": [
    "confusion_matrix(y_test_pred, Y_test_numeric)"
   ]
  },
  {
   "cell_type": "code",
   "execution_count": 82,
   "id": "2560d4cf-cb7d-4adf-8921-cc6e74a94b16",
   "metadata": {},
   "outputs": [
    {
     "name": "stdout",
     "output_type": "stream",
     "text": [
      "F1 Score per class: [0.37037037 0.59059474 0.54843111]\n"
     ]
    }
   ],
   "source": [
    "from sklearn.metrics import f1_score\n",
    "f1_per_class = f1_score(y_test_pred, Y_test_numeric, average=None)\n",
    "print(\"F1 Score per class:\", f1_per_class)"
   ]
  },
  {
   "cell_type": "code",
   "execution_count": 295,
   "id": "907d4cfa-ba8e-428d-9bb9-1a6eb40cf113",
   "metadata": {},
   "outputs": [
    {
     "data": {
      "image/png": "[encoded data removed]",
      "text/plain": [
       "<Figure size 800x950 with 1 Axes>"
      ]
     },
     "metadata": {},
     "output_type": "display_data"
    }
   ],
   "source": [
    "#!pip install shap\n",
    "#get the feature importance\n",
    "import shap\n",
    "explainer = shap.Explainer(best_model)\n",
    "shap_values = explainer(X_test)  # Use test data\n",
    "shap.summary_plot(shap_values, X_test)"
   ]
  },
  {
   "cell_type": "code",
   "execution_count": 92,
   "id": "e6f133a6-0fbc-4814-8ced-3f4094e5d78f",
   "metadata": {
    "scrolled": true
   },
   "outputs": [
    {
     "data": {
      "image/png": "[encoded data removed]",
      "text/plain": [
       "<Figure size 640x480 with 2 Axes>"
      ]
     },
     "metadata": {},
     "output_type": "display_data"
    }
   ],
   "source": [
    "#get comfusion matrix\n",
    "import seaborn as sns\n",
    "import matplotlib.pyplot as plt\n",
    "cm = confusion_matrix(Y_test_numeric, y_test_pred, normalize='true')\n",
    "sns.heatmap(cm, annot=True, fmt='.2%', cmap='Blues', xticklabels=['Blockbuster', 'Flop', 'Success'], yticklabels=['Blockbuster', 'Flop', 'Success'])\n",
    "plt.title('Normalized Confusion Matrix')\n",
    "plt.xlabel('Predicted')\n",
    "plt.ylabel('True')\n",
    "plt.show()"
   ]
  },
  {
   "cell_type": "code",
   "execution_count": 299,
   "id": "21bc16e9-5e0c-4503-be2d-d8bdab6d54ea",
   "metadata": {},
   "outputs": [
    {
     "name": "stdout",
     "output_type": "stream",
     "text": [
      "{'Blockbuster': 0, 'Flop': 1, 'Success': 2}\n"
     ]
    }
   ],
   "source": [
    "#getting label encoding for Y \n",
    "from sklearn.preprocessing import LabelEncoder\n",
    "\n",
    "# Initialize the label encoder\n",
    "encoder = LabelEncoder()\n",
    "\n",
    "# Fit the encoder on Y_test (or whatever labels you have)\n",
    "encoder.fit(Y_test)\n",
    "\n",
    "# Now you can access encoder.classes_\n",
    "label_mapping = dict(zip(encoder.classes_, range(len(encoder.classes_))))\n",
    "print(label_mapping)"
   ]
  },
  {
   "cell_type": "code",
   "execution_count": 301,
   "id": "0f2a4356-c7e8-4ff0-8fd9-27859a6a540e",
   "metadata": {},
   "outputs": [
    {
     "data": {
      "image/png": "[encoded data removed]",
      "text/plain": [
       "<Figure size 800x600 with 1 Axes>"
      ]
     },
     "metadata": {},
     "output_type": "display_data"
    }
   ],
   "source": [
    "#Get the ROC curve \n",
    "from sklearn.preprocessing import label_binarize\n",
    "from sklearn.metrics import roc_curve, auc\n",
    "import matplotlib.pyplot as plt\n",
    "\n",
    "# Assuming Y_test_numeric are the true labels in numeric form (e.g., 0, 1, 2 for 3 classes)\n",
    "# and best_model is your trained model\n",
    "\n",
    "# Define a mapping from numeric class labels to class names\n",
    "class_names = {0: 'Blockbuster', 1: 'Flop', 2: 'Success'}\n",
    "\n",
    "n_classes = len(set(Y_test_numeric))  # Number of classes\n",
    "y_test_bin = label_binarize(Y_test_numeric, classes=range(n_classes))  # Binarize the true labels\n",
    "y_probs = best_model.predict_proba(X_test)  # Get predicted probabilities for each class\n",
    "\n",
    "# Create a figure for the ROC curve plot\n",
    "plt.figure(figsize=(8, 6))\n",
    "\n",
    "# Loop through each class to plot the ROC curve\n",
    "for i in range(n_classes):\n",
    "    fpr, tpr, _ = roc_curve(y_test_bin[:, i], y_probs[:, i])  # Compute ROC curve for each class\n",
    "    roc_auc = auc(fpr, tpr)  # Compute the AUC for each class\n",
    "    plt.plot(fpr, tpr, label=f'{class_names[i]} (AUC = {roc_auc:.2f})')  # Plot the ROC curve with class name\n",
    "\n",
    "# Plot the diagonal line (random classifier)\n",
    "plt.plot([0, 1], [0, 1], 'k--', lw=2)  # Diagonal line (random classifier)\n",
    "plt.xlabel('False Positive Rate')\n",
    "plt.ylabel('True Positive Rate')\n",
    "plt.title('Multiclass ROC Curve')\n",
    "plt.legend(loc='lower right')  # Display the legend\n",
    "plt.show()\n"
   ]
  },
  {
   "cell_type": "code",
   "execution_count": 305,
   "id": "110917c2-81d7-47c0-99fa-834352c98d14",
   "metadata": {},
   "outputs": [
    {
     "name": "stdout",
     "output_type": "stream",
     "text": [
      "F1 Score per class: [0.3982684  0.56813266 0.50771388]\n",
      "Micro F1 Score: 0.5099828864803194\n"
     ]
    }
   ],
   "source": [
    "#get F1 Score \n",
    "from sklearn.metrics import f1_score\n",
    "f1_per_class = f1_score(Y_test_numeric, y_test_pred, average=None)\n",
    "print(\"F1 Score per class:\", f1_per_class)\n",
    "\n",
    "#from sklearn.metrics import f1_score\n",
    "\n",
    "f1_micro = f1_score(Y_test_numeric, y_test_pred, average='micro')\n",
    "print(\"Micro F1 Score:\", f1_micro)"
   ]
  },
  {
   "cell_type": "code",
   "execution_count": null,
   "id": "ca9faa09-12e4-4888-a674-55e15dca84e2",
   "metadata": {},
   "outputs": [],
   "source": []
  }
 ],
 "metadata": {
  "kernelspec": {
   "display_name": "Python 3 (ipykernel)",
   "language": "python",
   "name": "python3"
  },
  "language_info": {
   "codemirror_mode": {
    "name": "ipython",
    "version": 3
   },
   "file_extension": ".py",
   "mimetype": "text/x-python",
   "name": "python",
   "nbconvert_exporter": "python",
   "pygments_lexer": "ipython3",
   "version": "3.12.7"
  }
 },
 "nbformat": 4,
 "nbformat_minor": 5
}
